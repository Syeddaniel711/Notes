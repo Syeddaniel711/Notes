{
  "cells": [
    {
      "cell_type": "markdown",
      "metadata": {
        "id": "view-in-github",
        "colab_type": "text"
      },
      "source": [
        "<a href=\"https://colab.research.google.com/github/Syeddaniel711/Notes/blob/main/NumPy_Learning.ipynb\" target=\"_parent\"><img src=\"https://colab.research.google.com/assets/colab-badge.svg\" alt=\"Open In Colab\"/></a>"
      ]
    },
    {
      "cell_type": "code",
      "execution_count": null,
      "id": "f9a43add",
      "metadata": {
        "id": "f9a43add"
      },
      "outputs": [],
      "source": [
        "import numpy as np\n",
        "import pandas as pd\n",
        "import os"
      ]
    },
    {
      "cell_type": "code",
      "execution_count": null,
      "id": "da0a0943",
      "metadata": {
        "id": "da0a0943",
        "outputId": "5b0d18e6-054f-48d9-f2ce-062e7c29e1c3"
      },
      "outputs": [
        {
          "name": "stdout",
          "output_type": "stream",
          "text": [
            "[2 3 3]\n"
          ]
        }
      ],
      "source": [
        "#How to make an array=(2,3,3) 1-D\n",
        "one_D = np.array([2,3,3])\n",
        "print(one_D)"
      ]
    },
    {
      "cell_type": "code",
      "execution_count": null,
      "id": "33b0a2fd",
      "metadata": {
        "id": "33b0a2fd",
        "outputId": "400423ec-2b3c-45a0-9799-97c588dbb424"
      },
      "outputs": [
        {
          "name": "stdout",
          "output_type": "stream",
          "text": [
            "[[2 3 4]\n",
            " [2 4 5]]\n"
          ]
        }
      ],
      "source": [
        "#How to make two dimensional array = (2,3,4),(2,4,5) 2-D\n",
        "two_D = np.array([[2,3,4],[2,4,5]])\n",
        "print(two_D)"
      ]
    },
    {
      "cell_type": "code",
      "execution_count": null,
      "id": "e53a3e09",
      "metadata": {
        "id": "e53a3e09"
      },
      "outputs": [],
      "source": [
        "#In additional, An array also can specify type\n",
        "one_D_16=np.array([2,3,3],dtype='int16')"
      ]
    },
    {
      "cell_type": "code",
      "execution_count": null,
      "id": "a7fdf605",
      "metadata": {
        "id": "a7fdf605",
        "outputId": "d3b4938c-7600-4105-8b75-06daff8c7662"
      },
      "outputs": [
        {
          "data": {
            "text/plain": [
              "2"
            ]
          },
          "execution_count": 13,
          "metadata": {},
          "output_type": "execute_result"
        }
      ],
      "source": [
        "#Get Dimension of array\n",
        "np.ndim(two_D)   #should to because is two dimensional array 2-D"
      ]
    },
    {
      "cell_type": "code",
      "execution_count": null,
      "id": "4f776db2",
      "metadata": {
        "id": "4f776db2",
        "outputId": "daa29538-6f4b-434f-ba56-bbe575eed3ad"
      },
      "outputs": [
        {
          "data": {
            "text/plain": [
              "(2, 3)"
            ]
          },
          "execution_count": 15,
          "metadata": {},
          "output_type": "execute_result"
        }
      ],
      "source": [
        "#Shape of Array (Row x Column)\n",
        "np.shape(two_D)"
      ]
    },
    {
      "cell_type": "code",
      "execution_count": null,
      "id": "c018352d",
      "metadata": {
        "id": "c018352d",
        "outputId": "809793a3-3914-4e0c-9950-30cbc2957257"
      },
      "outputs": [
        {
          "data": {
            "text/plain": [
              "dtype('int32')"
            ]
          },
          "execution_count": 19,
          "metadata": {},
          "output_type": "execute_result"
        }
      ],
      "source": [
        "# Get Types\n",
        "two_D.dtype"
      ]
    },
    {
      "cell_type": "code",
      "execution_count": null,
      "id": "d49e02d3",
      "metadata": {
        "id": "d49e02d3",
        "outputId": "21bbd18a-d51b-4bf5-90c4-b4c94fc48e6f"
      },
      "outputs": [
        {
          "data": {
            "text/plain": [
              "dtype('int16')"
            ]
          },
          "execution_count": 22,
          "metadata": {},
          "output_type": "execute_result"
        }
      ],
      "source": [
        "one_D_16.dtype"
      ]
    },
    {
      "cell_type": "code",
      "execution_count": null,
      "id": "b6264e32",
      "metadata": {
        "id": "b6264e32",
        "outputId": "9a89867d-f482-43e0-8560-3a106e7eafcd"
      },
      "outputs": [
        {
          "data": {
            "text/plain": [
              "2"
            ]
          },
          "execution_count": 23,
          "metadata": {},
          "output_type": "execute_result"
        }
      ],
      "source": [
        "#Get item size\n",
        "one_D_16.itemsize"
      ]
    },
    {
      "cell_type": "code",
      "execution_count": null,
      "id": "4dacb360",
      "metadata": {
        "id": "4dacb360",
        "outputId": "521867cc-32dc-4c43-af55-18659467c382"
      },
      "outputs": [
        {
          "data": {
            "text/plain": [
              "6"
            ]
          },
          "execution_count": 24,
          "metadata": {},
          "output_type": "execute_result"
        }
      ],
      "source": [
        "#Get total size\n",
        "one_D_16.nbytes"
      ]
    },
    {
      "cell_type": "markdown",
      "id": "dfe0a177",
      "metadata": {
        "id": "dfe0a177"
      },
      "source": [
        "## Accessing / Changing Specific Elements, rows, columns, etc\n"
      ]
    },
    {
      "cell_type": "code",
      "execution_count": null,
      "id": "c4cb2c2a",
      "metadata": {
        "id": "c4cb2c2a",
        "outputId": "a2146c33-b627-400a-e251-e5d16c66f2c5"
      },
      "outputs": [
        {
          "data": {
            "text/plain": [
              "(2, 7)"
            ]
          },
          "execution_count": 29,
          "metadata": {},
          "output_type": "execute_result"
        }
      ],
      "source": [
        "data=np.array([[2,3,5,4,5,5,10],[3,4,5,4,5,6,7]])\n",
        "data.shape"
      ]
    },
    {
      "cell_type": "code",
      "execution_count": null,
      "id": "4fe8c9ba",
      "metadata": {
        "id": "4fe8c9ba",
        "outputId": "f8847a36-d570-4667-9e63-99686d7a2a4a"
      },
      "outputs": [
        {
          "data": {
            "text/plain": [
              "10"
            ]
          },
          "execution_count": 30,
          "metadata": {},
          "output_type": "execute_result"
        }
      ],
      "source": [
        "# Get A specific Elements (10)\n",
        "# Additonal notes, row and column will began with zero\n",
        "data[0,6]"
      ]
    },
    {
      "cell_type": "code",
      "execution_count": null,
      "id": "28ca2660",
      "metadata": {
        "id": "28ca2660",
        "outputId": "da8b8107-9637-44f1-f64f-6b4672f8a544"
      },
      "outputs": [
        {
          "data": {
            "text/plain": [
              "array([3])"
            ]
          },
          "execution_count": 35,
          "metadata": {},
          "output_type": "execute_result"
        }
      ],
      "source": [
        "# Get a specific row(We want the first row)\n",
        "data[0, ]"
      ]
    },
    {
      "cell_type": "code",
      "execution_count": null,
      "id": "3f36b2f9",
      "metadata": {
        "id": "3f36b2f9",
        "outputId": "faf62fd5-b9b5-4f8b-8958-b279a1e3cba3"
      },
      "outputs": [
        {
          "data": {
            "text/plain": [
              "array([3, 4, 5, 4, 5, 6])"
            ]
          },
          "execution_count": 36,
          "metadata": {},
          "output_type": "execute_result"
        }
      ],
      "source": [
        "#Get a specific row and value(we want row 2 with three to 6)\n",
        "data[1,0:6]"
      ]
    },
    {
      "cell_type": "code",
      "execution_count": null,
      "id": "f4906124",
      "metadata": {
        "id": "f4906124",
        "outputId": "a79b26be-a9af-42a3-a7c1-fffa3b5c7ab1"
      },
      "outputs": [
        {
          "data": {
            "text/plain": [
              "array([10,  7])"
            ]
          },
          "execution_count": 37,
          "metadata": {},
          "output_type": "execute_result"
        }
      ],
      "source": [
        "#Get a specific colum(10,7)\n",
        "data[:,6]"
      ]
    },
    {
      "cell_type": "code",
      "execution_count": null,
      "id": "f9caf58b",
      "metadata": {
        "id": "f9caf58b",
        "outputId": "4d1e1f6f-c6b5-4f4f-8294-ab6c1ff58c7b"
      },
      "outputs": [
        {
          "data": {
            "text/plain": [
              "array([2, 5, 5])"
            ]
          },
          "execution_count": 38,
          "metadata": {},
          "output_type": "execute_result"
        }
      ],
      "source": [
        "#Getting a little more fancy [startindex:endindex:stepsize]\n",
        "# Lets say we want every leap 2,5,5\n",
        "data[0,0:5:2]"
      ]
    },
    {
      "cell_type": "code",
      "execution_count": null,
      "id": "ae3c7d51",
      "metadata": {
        "id": "ae3c7d51",
        "outputId": "bb6678e2-3c61-4478-a02b-fe5802ab85c3"
      },
      "outputs": [
        {
          "name": "stdout",
          "output_type": "stream",
          "text": [
            "[[ 2  3  0 99  5  5 10]\n",
            " [ 3  4  2  4  5  6  7]]\n",
            "--------------------------------------------\n",
            "[[ 2  3  0 99  5  5 10]\n",
            " [ 3  4  2  4  5  6  7]]\n"
          ]
        }
      ],
      "source": [
        "#if we want change value inside with specific row [row 1 , 4=99]\n",
        "data[0,3]=99\n",
        "print(data)\n",
        "print(\"--------------------------------------------\")\n",
        "#if we want change value inside with specific column[column 3, 5=0,5=2]\n",
        "data[:,2]=[0,2]\n",
        "print(data)"
      ]
    },
    {
      "cell_type": "code",
      "execution_count": null,
      "id": "17d4aa77",
      "metadata": {
        "id": "17d4aa77",
        "outputId": "f149a6d4-f81a-481a-b1f6-1b8fdee9063d"
      },
      "outputs": [
        {
          "name": "stdout",
          "output_type": "stream",
          "text": [
            "[[[7 2]\n",
            "  [4 6]]\n",
            "\n",
            " [[2 3]\n",
            "  [3 5]]]\n"
          ]
        }
      ],
      "source": [
        "# 3-D example\n",
        "Three_D =np.array([[[7,2],[4,6]],[[2,3],[3,5]]])\n",
        "print(Three_D)"
      ]
    },
    {
      "cell_type": "code",
      "execution_count": null,
      "id": "b916a700",
      "metadata": {
        "id": "b916a700",
        "outputId": "c31ee23d-527c-44c6-e1f7-ae8a12c1febf"
      },
      "outputs": [
        {
          "data": {
            "text/plain": [
              "4"
            ]
          },
          "execution_count": 46,
          "metadata": {},
          "output_type": "execute_result"
        }
      ],
      "source": [
        "# Get a Specific elementn(work outside in) 4\n",
        "Three_D[0,1,0]"
      ]
    },
    {
      "cell_type": "code",
      "execution_count": null,
      "id": "6120a981",
      "metadata": {
        "id": "6120a981",
        "outputId": "6fd95b56-bd3f-4679-e47d-256668ee3173"
      },
      "outputs": [
        {
          "data": {
            "text/plain": [
              "array([[7, 2],\n",
              "       [4, 6]])"
            ]
          },
          "execution_count": 49,
          "metadata": {},
          "output_type": "execute_result"
        }
      ],
      "source": [
        "# Get a Specific element( first row)\n",
        "Three_D[0,:,:]"
      ]
    },
    {
      "cell_type": "code",
      "execution_count": null,
      "id": "2b8576d5",
      "metadata": {
        "id": "2b8576d5",
        "outputId": "ab1511e8-d54b-4407-e77e-6227baa8249f"
      },
      "outputs": [
        {
          "data": {
            "text/plain": [
              "array([[7, 2],\n",
              "       [2, 3]])"
            ]
          },
          "execution_count": 50,
          "metadata": {},
          "output_type": "execute_result"
        }
      ],
      "source": [
        "#Get a specific row (7,4,2,3)\n",
        "Three_D[:,0,:]\n"
      ]
    },
    {
      "cell_type": "code",
      "execution_count": null,
      "id": "f312f637",
      "metadata": {
        "id": "f312f637",
        "outputId": "6cecccf4-cc4d-4ce0-e560-8faca1625584"
      },
      "outputs": [
        {
          "name": "stdout",
          "output_type": "stream",
          "text": [
            "[[[  7   2]\n",
            "  [999 666]]\n",
            "\n",
            " [[  2   3]\n",
            "  [999   5]]]\n"
          ]
        }
      ],
      "source": [
        "# replace specific value\n",
        "Three_D[0,1,:]=[999,666]\n",
        "Three_D[1,1,0]=999\n",
        "print(Three_D)"
      ]
    },
    {
      "cell_type": "markdown",
      "id": "8e041162",
      "metadata": {
        "id": "8e041162"
      },
      "source": [
        "##  Initializing Different Types of Arrays\n"
      ]
    },
    {
      "cell_type": "code",
      "execution_count": null,
      "id": "e730c643",
      "metadata": {
        "id": "e730c643",
        "outputId": "c253672f-2f09-4192-999e-bf1c4b7272fc"
      },
      "outputs": [
        {
          "data": {
            "text/plain": [
              "array([[0., 0., 0.],\n",
              "       [0., 0., 0.]])"
            ]
          },
          "execution_count": 57,
          "metadata": {},
          "output_type": "execute_result"
        }
      ],
      "source": [
        "#All 0s matrix\n",
        "np.zeros((2,3))"
      ]
    },
    {
      "cell_type": "code",
      "execution_count": null,
      "id": "958db730",
      "metadata": {
        "id": "958db730",
        "outputId": "aa3d8052-e7cd-4eb7-daca-d9cba9d9aea4"
      },
      "outputs": [
        {
          "data": {
            "text/plain": [
              "array([[[[1., 1., 1.],\n",
              "         [1., 1., 1.],\n",
              "         [1., 1., 1.]],\n",
              "\n",
              "        [[1., 1., 1.],\n",
              "         [1., 1., 1.],\n",
              "         [1., 1., 1.]]],\n",
              "\n",
              "\n",
              "       [[[1., 1., 1.],\n",
              "         [1., 1., 1.],\n",
              "         [1., 1., 1.]],\n",
              "\n",
              "        [[1., 1., 1.],\n",
              "         [1., 1., 1.],\n",
              "         [1., 1., 1.]]]])"
            ]
          },
          "execution_count": 62,
          "metadata": {},
          "output_type": "execute_result"
        }
      ],
      "source": [
        "#All 1s matrix #\n",
        "a=np.ones((2,3,3))"
      ]
    },
    {
      "cell_type": "code",
      "execution_count": null,
      "id": "aff2eeaf",
      "metadata": {
        "id": "aff2eeaf",
        "outputId": "7048b172-1100-4e1d-b8c2-290263a0fdd9"
      },
      "outputs": [
        {
          "data": {
            "text/plain": [
              "array([[666, 666],\n",
              "       [666, 666]])"
            ]
          },
          "execution_count": 63,
          "metadata": {},
          "output_type": "execute_result"
        }
      ],
      "source": [
        "#Any other number\n",
        "np.full((2,2),666)"
      ]
    },
    {
      "cell_type": "code",
      "execution_count": null,
      "id": "cf5a2d56",
      "metadata": {
        "id": "cf5a2d56",
        "outputId": "feeeb6eb-ff70-415f-ca2f-253df7e4ce34"
      },
      "outputs": [
        {
          "data": {
            "text/plain": [
              "array([[[4, 4],\n",
              "        [4, 4]],\n",
              "\n",
              "       [[4, 4],\n",
              "        [4, 4]]])"
            ]
          },
          "execution_count": 67,
          "metadata": {},
          "output_type": "execute_result"
        }
      ],
      "source": [
        "# Any other number (full_like)\n",
        "np.full_like(Three_D,4)"
      ]
    },
    {
      "cell_type": "code",
      "execution_count": null,
      "id": "68b8d81d",
      "metadata": {
        "id": "68b8d81d"
      },
      "outputs": [],
      "source": [
        "# Random decimal numbers\n",
        "np.random.rand(4,2)"
      ]
    },
    {
      "cell_type": "code",
      "execution_count": null,
      "id": "2ed4f1c9",
      "metadata": {
        "id": "2ed4f1c9",
        "outputId": "33aa7580-d979-4cee-8f1b-4d3278313dbd"
      },
      "outputs": [
        {
          "data": {
            "text/plain": [
              "array([[6, 6, 4],\n",
              "       [5, 6, 5],\n",
              "       [6, 6, 5],\n",
              "       [5, 4, 5],\n",
              "       [6, 6, 4],\n",
              "       [6, 6, 4],\n",
              "       [6, 4, 5],\n",
              "       [5, 5, 6],\n",
              "       [4, 4, 4],\n",
              "       [6, 4, 4]])"
            ]
          },
          "execution_count": 72,
          "metadata": {},
          "output_type": "execute_result"
        }
      ],
      "source": [
        "#Random Integer Values\n",
        "np.random.randint(4,7 ,size=(10,3))"
      ]
    },
    {
      "cell_type": "code",
      "execution_count": null,
      "id": "7f0bf13b",
      "metadata": {
        "id": "7f0bf13b",
        "outputId": "33bac150-e91a-4e59-96fb-90e255fa0d2d"
      },
      "outputs": [
        {
          "data": {
            "text/plain": [
              "array([[1., 0., 0., 0.],\n",
              "       [0., 1., 0., 0.],\n",
              "       [0., 0., 1., 0.],\n",
              "       [0., 0., 0., 1.]])"
            ]
          },
          "execution_count": 75,
          "metadata": {},
          "output_type": "execute_result"
        }
      ],
      "source": [
        "#The identify matriz\n",
        "np.identity(4)"
      ]
    },
    {
      "cell_type": "code",
      "execution_count": null,
      "id": "3e68f1a8",
      "metadata": {
        "id": "3e68f1a8",
        "outputId": "67b43a3d-9f6c-4ef5-b380-aa9ccba2a1a1"
      },
      "outputs": [
        {
          "name": "stdout",
          "output_type": "stream",
          "text": [
            "[[1 2 3]\n",
            " [1 2 3]\n",
            " [1 2 3]]\n"
          ]
        }
      ],
      "source": [
        "#repeat an array and make print every row\n",
        "arr =np.array([[1,2,3]])\n",
        "r1 = np.repeat(arr,3,axis=0)\n",
        "print(r1)"
      ]
    },
    {
      "cell_type": "code",
      "execution_count": null,
      "id": "fcc81e8c",
      "metadata": {
        "id": "fcc81e8c",
        "outputId": "18a85865-d3ae-4ff8-9b0c-bf02f5722820"
      },
      "outputs": [
        {
          "name": "stdout",
          "output_type": "stream",
          "text": [
            "[[1. 1. 1. 1. 1.]\n",
            " [1. 1. 1. 1. 1.]\n",
            " [1. 1. 1. 1. 1.]\n",
            " [1. 1. 1. 1. 1.]\n",
            " [1. 1. 1. 1. 1.]]\n",
            "------------------\n",
            "[[0. 0. 0.]\n",
            " [0. 9. 0.]\n",
            " [0. 0. 0.]]\n",
            "------------------\n",
            "[[1. 1. 1. 1. 1.]\n",
            " [1. 0. 0. 0. 1.]\n",
            " [1. 0. 9. 0. 1.]\n",
            " [1. 0. 0. 0. 1.]\n",
            " [1. 1. 1. 1. 1.]]\n"
          ]
        }
      ],
      "source": [
        "output=np.ones((5,5))\n",
        "print(output)\n",
        "print(\"------------------\")\n",
        "z= np.zeros((3,3))\n",
        "z[1,1]=9\n",
        "print(z)\n",
        "print(\"------------------\")\n",
        "output[1:4,1:4] =z\n",
        "print(output)"
      ]
    },
    {
      "cell_type": "markdown",
      "id": "f70c833e",
      "metadata": {
        "id": "f70c833e"
      },
      "source": [
        "### Mathematics"
      ]
    },
    {
      "cell_type": "code",
      "execution_count": null,
      "id": "fc303d30",
      "metadata": {
        "id": "fc303d30",
        "outputId": "b21faaf2-ff19-49fd-ba93-a189e6e7e6f4"
      },
      "outputs": [
        {
          "name": "stdout",
          "output_type": "stream",
          "text": [
            "[1 2 3 4 5]\n"
          ]
        }
      ],
      "source": [
        "a = np.array([1,2,3,4,5])\n",
        "print(a)"
      ]
    },
    {
      "cell_type": "code",
      "execution_count": null,
      "id": "6524f8ef",
      "metadata": {
        "id": "6524f8ef",
        "outputId": "5931dd67-35cb-48ac-fae9-f63004338901"
      },
      "outputs": [
        {
          "data": {
            "text/plain": [
              "array([3, 4, 5, 6, 7])"
            ]
          },
          "execution_count": 83,
          "metadata": {},
          "output_type": "execute_result"
        }
      ],
      "source": [
        "#Addition\n",
        "a+2"
      ]
    },
    {
      "cell_type": "code",
      "execution_count": null,
      "id": "3c7a256b",
      "metadata": {
        "id": "3c7a256b",
        "outputId": "3e2b281c-ebb8-4ba8-ab35-9cbf50c1306a"
      },
      "outputs": [
        {
          "data": {
            "text/plain": [
              "array([-9, -8, -7, -6, -5])"
            ]
          },
          "execution_count": 84,
          "metadata": {},
          "output_type": "execute_result"
        }
      ],
      "source": [
        "#Subtraction\n",
        "a-10"
      ]
    },
    {
      "cell_type": "code",
      "execution_count": null,
      "id": "6aa0a3fa",
      "metadata": {
        "id": "6aa0a3fa",
        "outputId": "ab02c799-2ce0-467c-d209-865d44a0ecbb"
      },
      "outputs": [
        {
          "data": {
            "text/plain": [
              "array([0.1, 0.2, 0.3, 0.4, 0.5])"
            ]
          },
          "execution_count": 85,
          "metadata": {},
          "output_type": "execute_result"
        }
      ],
      "source": [
        "#Divide\n",
        "a/10"
      ]
    },
    {
      "cell_type": "code",
      "execution_count": null,
      "id": "912ed8db",
      "metadata": {
        "id": "912ed8db",
        "outputId": "e58c3b76-1950-40f8-a11f-44937f6baa46"
      },
      "outputs": [
        {
          "data": {
            "text/plain": [
              "array([ 2,  4,  6,  8, 10])"
            ]
          },
          "execution_count": 87,
          "metadata": {},
          "output_type": "execute_result"
        }
      ],
      "source": [
        "#Mutiply\n",
        "a*2"
      ]
    },
    {
      "cell_type": "code",
      "execution_count": null,
      "id": "110cb185",
      "metadata": {
        "id": "110cb185",
        "outputId": "b5058435-87b0-44f7-a1f8-aea9ff2e9df2"
      },
      "outputs": [
        {
          "data": {
            "text/plain": [
              "array([ 1,  4,  9, 16, 25], dtype=int32)"
            ]
          },
          "execution_count": 88,
          "metadata": {},
          "output_type": "execute_result"
        }
      ],
      "source": [
        "#Square\n",
        "a**2"
      ]
    },
    {
      "cell_type": "code",
      "execution_count": null,
      "id": "fbf5604f",
      "metadata": {
        "id": "fbf5604f",
        "outputId": "4a44110b-979c-4eb9-a5fa-e84eaca624b3"
      },
      "outputs": [
        {
          "data": {
            "text/plain": [
              "array([ 1.55740772, -2.18503986, -0.14254654,  1.15782128, -3.38051501])"
            ]
          },
          "execution_count": 90,
          "metadata": {},
          "output_type": "execute_result"
        }
      ],
      "source": [
        "# cos sin tan\n",
        "np.tan(a)"
      ]
    },
    {
      "cell_type": "markdown",
      "id": "2b8f5480",
      "metadata": {
        "id": "2b8f5480"
      },
      "source": [
        "### Linear Algerbra"
      ]
    },
    {
      "cell_type": "code",
      "execution_count": null,
      "id": "e313f427",
      "metadata": {
        "id": "e313f427",
        "outputId": "3afedbf0-00b9-4520-b57c-e8e872ce330f"
      },
      "outputs": [
        {
          "name": "stdout",
          "output_type": "stream",
          "text": [
            "[[1. 1. 1.]\n",
            " [1. 1. 1.]]\n",
            "[[2 2]\n",
            " [2 2]\n",
            " [2 2]]\n"
          ]
        }
      ],
      "source": [
        "a =np.ones((2,3))\n",
        "print(a)\n",
        "\n",
        "b=np.full((3,2),2)\n",
        "print(b)\n"
      ]
    },
    {
      "cell_type": "code",
      "execution_count": null,
      "id": "6424ee48",
      "metadata": {
        "id": "6424ee48",
        "outputId": "a418fc9e-0f0f-4748-ae1b-dc2b15aa428d"
      },
      "outputs": [
        {
          "data": {
            "text/plain": [
              "1.0"
            ]
          },
          "execution_count": 93,
          "metadata": {},
          "output_type": "execute_result"
        }
      ],
      "source": [
        "#Find the determine\n",
        "c =np.identity(3)\n",
        "np.linalg.det(c)"
      ]
    },
    {
      "cell_type": "code",
      "execution_count": null,
      "id": "f7c640b9",
      "metadata": {
        "id": "f7c640b9"
      },
      "outputs": [],
      "source": [
        "#Determinant"
      ]
    },
    {
      "cell_type": "code",
      "execution_count": null,
      "id": "2e7d8c54",
      "metadata": {
        "id": "2e7d8c54"
      },
      "outputs": [],
      "source": [
        "#Trace"
      ]
    },
    {
      "cell_type": "code",
      "execution_count": null,
      "id": "efec1199",
      "metadata": {
        "id": "efec1199"
      },
      "outputs": [],
      "source": [
        "#inverse\n"
      ]
    },
    {
      "cell_type": "markdown",
      "id": "c54ca9e4",
      "metadata": {
        "id": "c54ca9e4"
      },
      "source": [
        "### Statistics\n"
      ]
    },
    {
      "cell_type": "code",
      "execution_count": null,
      "id": "7917df72",
      "metadata": {
        "id": "7917df72",
        "outputId": "04db6315-c044-4b2b-d9c1-d3b6a1c1aca8"
      },
      "outputs": [
        {
          "data": {
            "text/plain": [
              "array([[1, 2, 3],\n",
              "       [4, 5, 6]])"
            ]
          },
          "execution_count": 95,
          "metadata": {},
          "output_type": "execute_result"
        }
      ],
      "source": [
        "stats = np.array([[1,2,3],[4,5,6]])\n",
        "stats"
      ]
    },
    {
      "cell_type": "code",
      "execution_count": null,
      "id": "db7374e9",
      "metadata": {
        "id": "db7374e9",
        "outputId": "a7bda3f8-3a28-46a6-9c24-2e73cb3e3858"
      },
      "outputs": [
        {
          "data": {
            "text/plain": [
              "1"
            ]
          },
          "execution_count": 96,
          "metadata": {},
          "output_type": "execute_result"
        }
      ],
      "source": [
        "# the small value in the array\n",
        "np.min(stats)"
      ]
    },
    {
      "cell_type": "code",
      "execution_count": null,
      "id": "d0466056",
      "metadata": {
        "id": "d0466056",
        "outputId": "4805373b-5210-4fd1-f406-ef5bba9d34f1"
      },
      "outputs": [
        {
          "data": {
            "text/plain": [
              "array([3, 6])"
            ]
          },
          "execution_count": 97,
          "metadata": {},
          "output_type": "execute_result"
        }
      ],
      "source": [
        "#THe biggest value for every row\n",
        "np.max(stats,axis=1)"
      ]
    },
    {
      "cell_type": "code",
      "execution_count": null,
      "id": "de6c8a60",
      "metadata": {
        "id": "de6c8a60",
        "outputId": "a4922116-8310-4dca-d8eb-37a8db4bc74e"
      },
      "outputs": [
        {
          "data": {
            "text/plain": [
              "21"
            ]
          },
          "execution_count": 98,
          "metadata": {},
          "output_type": "execute_result"
        }
      ],
      "source": [
        "#sum all\n",
        "np.sum(stats)"
      ]
    },
    {
      "cell_type": "code",
      "execution_count": null,
      "id": "ce15dbd2",
      "metadata": {
        "id": "ce15dbd2",
        "outputId": "03331a65-eb87-4e4c-b08a-77c23b5b07ae"
      },
      "outputs": [
        {
          "data": {
            "text/plain": [
              "array([5, 7, 9])"
            ]
          },
          "execution_count": 100,
          "metadata": {},
          "output_type": "execute_result"
        }
      ],
      "source": [
        "# sum per axis\n",
        "np.sum(stats , axis=0)"
      ]
    },
    {
      "cell_type": "markdown",
      "id": "1a847af2",
      "metadata": {
        "id": "1a847af2"
      },
      "source": [
        "### Reorganizing Arrays"
      ]
    },
    {
      "cell_type": "code",
      "execution_count": null,
      "id": "595b8d41",
      "metadata": {
        "id": "595b8d41",
        "outputId": "bbd9ff0a-0ac5-4c07-c08d-a4e6cc60250f"
      },
      "outputs": [
        {
          "name": "stdout",
          "output_type": "stream",
          "text": [
            "[[1 2 3 4]\n",
            " [6 7 8 9]]\n",
            "[[1 2 3 4 6 7 8 9]]\n"
          ]
        }
      ],
      "source": [
        "before = np.array([[1,2,3,4],[6,7,8,9]])\n",
        "print(before)\n",
        "after = before.reshape(1,8)\n",
        "print(after)"
      ]
    },
    {
      "cell_type": "code",
      "execution_count": null,
      "id": "f94e135b",
      "metadata": {
        "id": "f94e135b",
        "outputId": "e0d138c0-28b8-446d-90b6-fc74ec438bca"
      },
      "outputs": [
        {
          "data": {
            "text/plain": [
              "array([1, 2, 3, 4, 5, 6, 7, 8])"
            ]
          },
          "execution_count": 105,
          "metadata": {},
          "output_type": "execute_result"
        }
      ],
      "source": [
        "# vertically stacking vectors\n",
        "v1=np.array([1,2,3,4])\n",
        "v2=np.array([5,6,7,8])\n",
        "\n",
        "np.hstack((v1,v2))\n"
      ]
    },
    {
      "cell_type": "markdown",
      "id": "49cbe837",
      "metadata": {
        "id": "49cbe837"
      },
      "source": [
        "### Miscellaneous"
      ]
    },
    {
      "cell_type": "code",
      "execution_count": null,
      "id": "2853bcac",
      "metadata": {
        "id": "2853bcac",
        "outputId": "6e501264-acc5-408d-8fbe-05bd2fed5a17"
      },
      "outputs": [
        {
          "data": {
            "text/plain": [
              "'C:\\\\Users\\\\LENOVO'"
            ]
          },
          "execution_count": 108,
          "metadata": {},
          "output_type": "execute_result"
        }
      ],
      "source": [
        "os.getcwd()"
      ]
    },
    {
      "cell_type": "code",
      "execution_count": null,
      "id": "e7f15eb3",
      "metadata": {
        "id": "e7f15eb3",
        "outputId": "70ce4d08-5d07-470e-8793-253b6caefa93"
      },
      "outputs": [
        {
          "data": {
            "text/plain": [
              "array([     2,      3,      4,      5,      6,      7,      7,      7,\n",
              "           88,      3,     56,      3,      2,      4,      6,      2,\n",
              "            5,      2,    623,      5,      2,      5,    226,      2,\n",
              "          525,     52,  53252,      5,      2,     52, 532523,      5,\n",
              "          235,     25,      4,    525])"
            ]
          },
          "execution_count": 114,
          "metadata": {},
          "output_type": "execute_result"
        }
      ],
      "source": [
        "#Load data from file\n",
        "filedata=np.genfromtxt('data1.txt',delimiter=',')\n",
        "filedata=filedata.astype('int32')\n",
        "filedata"
      ]
    },
    {
      "cell_type": "markdown",
      "id": "fe822855",
      "metadata": {
        "id": "fe822855"
      },
      "source": [
        "### Boolean Masking and Advanced Indexing"
      ]
    },
    {
      "cell_type": "code",
      "execution_count": null,
      "id": "2959f35f",
      "metadata": {
        "id": "2959f35f",
        "outputId": "03e64651-9c0b-4c53-8c40-9004cf5c4959"
      },
      "outputs": [
        {
          "data": {
            "text/plain": [
              "array([False, False, False, False, False, False, False, False,  True,\n",
              "       False,  True, False, False, False, False, False, False, False,\n",
              "        True, False, False, False,  True, False,  True,  True,  True,\n",
              "       False, False,  True,  True, False,  True,  True, False,  True])"
            ]
          },
          "execution_count": 115,
          "metadata": {},
          "output_type": "execute_result"
        }
      ],
      "source": [
        "#show true or false the value in array that more than 10\n",
        "filedata>10"
      ]
    },
    {
      "cell_type": "code",
      "execution_count": null,
      "id": "e7a449d7",
      "metadata": {
        "id": "e7a449d7",
        "outputId": "f6a89022-6a10-4fb0-f360-912bb71082f8"
      },
      "outputs": [
        {
          "data": {
            "text/plain": [
              "array([    88,     56,    623,    226,    525,     52,  53252,     52,\n",
              "       532523,    235,     25,    525])"
            ]
          },
          "execution_count": 116,
          "metadata": {},
          "output_type": "execute_result"
        }
      ],
      "source": [
        "#show the number that more than 10\n",
        "filedata[filedata>10]"
      ]
    },
    {
      "cell_type": "code",
      "execution_count": null,
      "id": "811b38ac",
      "metadata": {
        "id": "811b38ac"
      },
      "outputs": [],
      "source": [
        "#You can index with a list in NumPy\n"
      ]
    },
    {
      "cell_type": "code",
      "execution_count": null,
      "id": "5504af9f",
      "metadata": {
        "id": "5504af9f",
        "outputId": "87ebba2c-6d57-4764-87ea-aa61592db6d8"
      },
      "outputs": [
        {
          "data": {
            "text/plain": [
              "array([False, False,  True,  True, False, False,  True,  True,  True])"
            ]
          },
          "execution_count": 128,
          "metadata": {},
          "output_type": "execute_result"
        }
      ],
      "source": [
        "#if any value in by column more than 8\n",
        "a=np.array([[1,2,34,5,6,7,8,8,78],[1,2,3,66,7,8,9,99,9]])\n",
        "np.any(a>8,axis=0)"
      ]
    },
    {
      "cell_type": "code",
      "execution_count": null,
      "id": "56261bf1",
      "metadata": {
        "id": "56261bf1",
        "outputId": "2995b29c-73ee-483d-eb95-d8168c964261"
      },
      "outputs": [
        {
          "data": {
            "text/plain": [
              "array([[ 0,  1,  2,  3,  4],\n",
              "       [ 5,  6,  7,  8,  9],\n",
              "       [10, 11, 12, 13, 14],\n",
              "       [15, 16, 17, 18, 19],\n",
              "       [20, 21, 22, 23, 24],\n",
              "       [25, 26, 27, 28, 29]])"
            ]
          },
          "execution_count": 140,
          "metadata": {},
          "output_type": "execute_result"
        }
      ],
      "source": [
        "#Quiz\n",
        "a=np.arange(30).reshape(6,5)\n",
        "a"
      ]
    },
    {
      "cell_type": "code",
      "execution_count": null,
      "id": "2be83d68",
      "metadata": {
        "id": "2be83d68",
        "outputId": "1c52cb72-a0d5-4ef7-bc56-eb86528c75ce"
      },
      "outputs": [
        {
          "data": {
            "text/plain": [
              "array([[10, 11],\n",
              "       [15, 16]])"
            ]
          },
          "execution_count": 143,
          "metadata": {},
          "output_type": "execute_result"
        }
      ],
      "source": [
        "#select number(10,11,15,16)\n",
        "a[2:4,0:2]"
      ]
    },
    {
      "cell_type": "code",
      "execution_count": null,
      "id": "a70fa384",
      "metadata": {
        "id": "a70fa384",
        "outputId": "b339cd86-e6a5-4e03-cf80-f13bea50e795"
      },
      "outputs": [
        {
          "data": {
            "text/plain": [
              "array([ 1,  7, 13, 19])"
            ]
          },
          "execution_count": 142,
          "metadata": {},
          "output_type": "execute_result"
        }
      ],
      "source": [
        "#select number(1,7,13,19)\n",
        "a[[0,1,2,3],[1,2,3,4]]"
      ]
    },
    {
      "cell_type": "code",
      "execution_count": null,
      "id": "30f1e0e4",
      "metadata": {
        "id": "30f1e0e4",
        "outputId": "7ea53d8d-9204-48ba-bd5a-e474ddcbbac0"
      },
      "outputs": [
        {
          "data": {
            "text/plain": [
              "array([[ 3,  4],\n",
              "       [23, 24],\n",
              "       [28, 29]])"
            ]
          },
          "execution_count": 147,
          "metadata": {},
          "output_type": "execute_result"
        }
      ],
      "source": [
        "#select number(3,4,23,24,29,30)\n",
        "a[[0,4,5],3:]"
      ]
    }
  ],
  "metadata": {
    "kernelspec": {
      "display_name": "Python 3 (ipykernel)",
      "language": "python",
      "name": "python3"
    },
    "language_info": {
      "codemirror_mode": {
        "name": "ipython",
        "version": 3
      },
      "file_extension": ".py",
      "mimetype": "text/x-python",
      "name": "python",
      "nbconvert_exporter": "python",
      "pygments_lexer": "ipython3",
      "version": "3.9.13"
    },
    "colab": {
      "provenance": [],
      "include_colab_link": true
    }
  },
  "nbformat": 4,
  "nbformat_minor": 5
}